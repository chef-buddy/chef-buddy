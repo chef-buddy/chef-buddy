{
 "cells": [
  {
   "cell_type": "code",
   "execution_count": 194,
   "metadata": {
    "collapsed": false
   },
   "outputs": [],
   "source": [
    "import requests\n",
    "import pprint\n",
    "import pandas as pd\n",
    "\n",
    "pp = pprint.PrettyPrinter(indent=4)\n",
    "\n",
    "\n",
    "def get_recipes():\n",
    "    _app_id = '844ee8f7'\n",
    "    _app_key = '9b846490c7c34c4f33e70564831f232b'\n",
    "\n",
    "    all_recipes = requests.get('http://api.yummly.com/v1/api/recipes',\n",
    "                               params={'_app_id':_app_id,\n",
    "                                       '_app_key':_app_key,\n",
    "                                       'q':'chicken',\n",
    "                                       'maxResult':40}).json()\n",
    "    return all_recipes['matches']\n",
    "\n",
    "def recipe_ingr_parse(recipe_list):\n",
    "    return [(recipe['id'], ingredient) for recipe in recipe_list for ingredient in recipe['ingredients']]\n",
    "\n",
    "def import_ingre_fc():\n",
    "    #will want this to be done once and stored in db\n",
    "    fc_indr_raw = pd.read_csv('master_fc_ing.csv')\n",
    "    fc_indr_raw['ingredient_name'] = [ingredient.replace('_', ' ') for ingredient in fc_indr_raw['ingredient_name']]\n",
    "    fc_ingr_only['matched'] = fc_ingr_only[['ingredient_name', 'compound_id']].apply(tuple, axis=1)\n",
    "    ingredients_fc_id = {ingredient: [] for ingredient in fc_ingr_only['ingredient_name']}\n",
    "    for ingredient, fc_id in list(fc_ingr_only['matched']):\n",
    "        if ingredient in ingredients_fc_id:\n",
    "                ingredients_fc_id[ingredient].append(fc_id)\n",
    "    return ingredients_fc_id\n",
    "\n",
    "\n",
    "fc_ingr_only_dict = import_ingre_fc()\n",
    "def fc_return(recipe_id, ingredient):\n",
    "    # will need to look in db table long term instead of dict.\n",
    "    return [(recipe_id, fc_id) for fc_id in fc_ingr_only_dict[ingredient]]\n",
    "\n",
    "def recipe_fc_single_return(recipe_ingr_list):\n",
    "    recipe_fc_final = []\n",
    "    for recipe_id, ingredient in recipe_ing:\n",
    "        if ingredient in fc_ingr_only_dict.keys():\n",
    "            recipe_fc_final.extend(fc_return(recipe_id, ingredient))\n",
    "    return recipe_fc_final\n",
    "\n",
    "def recipe_list_fc_id(recipe_list):\n",
    "    recipe_fc_id = {recipe['id']: [] for recipe in recipe_list}\n",
    "    for recipe_id, fc_id in recipe_fc_final:\n",
    "        if recipe_id in recipe_fc_id:\n",
    "            recipe_fc_id[recipe_id].append(fc_id)\n",
    "    return recipe_fc_id\n",
    "\n",
    "def get_top_recipe_for_user(raw_recipes, user_fc_data):\n",
    "    recipe_id_fc_list = recipe_list_fc_id(raw_recipes)\n",
    "    recipe_to_fc_count = {recipe_id:0 for recipe_id in recipe_id_fc_list.keys()}\n",
    "    \n",
    "    for recipe_id, flavor_comp_id in recipe_id_fc_list.items():\n",
    "        for user_flav, user_score in user_fc_data:\n",
    "            if user_flav in flavor_comp_id:\n",
    "                recipe_to_fc_count[recipe_id] += user_score\n",
    "    print(recipe_to_fc_count)\n",
    "\n",
    "    return max(recipe_to_fc_count, key=recipe_to_fc_count.get)"
   ]
  },
  {
   "cell_type": "code",
   "execution_count": 189,
   "metadata": {
    "collapsed": false
   },
   "outputs": [],
   "source": [
    "#flavor_compound_id , score\n",
    "fake_user_data = [(748, 1), (879, 4), (50, 2), (3,8), (59,1), (200,2)]\n",
    "raw_yum_recipes = get_recipes()"
   ]
  },
  {
   "cell_type": "code",
   "execution_count": 196,
   "metadata": {
    "collapsed": false
   },
   "outputs": [
    {
     "name": "stdout",
     "output_type": "stream",
     "text": [
      "{'Paleo-Sesame-Chicken-1015666': 2, 'Amish-Baked-Chicken-1033421': 0, 'Chicken-Pho-1036448': 0, 'Yakitori-Chicken-1024081': 0, 'Thai-Roast-Chicken-with-Red-Curry-Rub-1032219': 0, 'Chicken-Shawarma-1037344': 0, 'Garlic-Parmesan-Chicken-1010119': 0, 'Crockpot-Chicken-Fajitas-1037333': 0, 'Mongolian-Chicken-1021953': 0, 'Skinny-Greek-Yogurt-Chicken-1008489': 4, 'Clean-Eating-Almond-Crusted-Chicken-1012655': 0, 'Balsamic-Glazed-Chicken-Breast-1036296': 0, 'Creamy-Chicken-Penne-1023581': 0, 'Oven-Roasted-Chicken-1011129': 2, 'Chicken-Avocado-Burgers-1031197': 2, 'Buttermilk-Fried-Chicken-1035291': 0, 'Crispy-Baked-Honey-Garlic-Chicken-1029654': 2, 'Crockpot-Honey-Rosemary-Chicken-1037334': 2, 'Baked-Chicken-Taquitos-1023703': 0, 'Man-Pleasing-Chicken-1010619': 5, 'Imperial-Chicken-1031585': 10, 'Roast-Chicken-with-Lemon-1024103': 2, 'Baked-Garlic-Parmesan-Chicken-1032476': 6, 'Balsamic-Roast-Chicken-979810': 2, 'Chorizo-stuffed-Chicken-989230': 0, 'BBQ-Chicken-_-Pineapple-Grilled-Cheese-1025354': 2, 'Garlic-Brown-Sugar-Chicken-1013277': 0, 'Cajun-Marinated-Chicken-1023115': 2, 'Chicken-Francese-439520': 4, 'Crock-Pot-Chicken-Pot-Pie-1029511': 2, 'Butter-Chicken-1021895': 2, 'Healthy-Chicken-Piccata-1003627': 0, 'O-M-G-BEST-Crockpot-Chicken-EVER-1030956': 0, 'Slow-Cooker-Teriyaki-Chicken-1013719': 0, 'Chicken-Tetrazzini-1012954': 4, 'Paleo-Coconut-Chicken-992287': 0, 'Easy-Oven-Baked-Chicken-1023717': 2, 'Monterrey-Chicken-Bake-1018788': 0, 'Oven-Roasted-Lemon-Pepper-Chicken-1021796': 0, 'Crock-Pot-Lemon-Chicken-1011733': 0}\n",
      "0.0049831529904622585  seconds\n"
     ]
    }
   ],
   "source": [
    "import timeit\n",
    "fc_ingr_only_dict = import_ingre_fc()\n",
    "\n",
    "start = timeit.default_timer()\n",
    "#Gets and cleans recipes from Yummly\n",
    "#moved api call out of cell to limit calls to their API\n",
    "\n",
    "# Breaks down ingredients to (recipe_id, flavor compound)\n",
    "recipe_ing = recipe_ingr_parse(raw_yum_recipes)\n",
    "recipe_fc_final = recipe_fc_single_return(recipe_ing)\n",
    "\n",
    "# Gets top recipe for user\n",
    "get_top_recipe_for_user(raw_yum_recipes, fake_user_data)\n",
    "\n",
    "stop = timeit.default_timer()\n",
    "print(stop - start, ' seconds')"
   ]
  },
  {
   "cell_type": "code",
   "execution_count": null,
   "metadata": {
    "collapsed": false
   },
   "outputs": [],
   "source": []
  },
  {
   "cell_type": "code",
   "execution_count": null,
   "metadata": {
    "collapsed": true
   },
   "outputs": [],
   "source": []
  }
 ],
 "metadata": {
  "kernelspec": {
   "display_name": "Python 3",
   "language": "python",
   "name": "python3"
  },
  "language_info": {
   "codemirror_mode": {
    "name": "ipython",
    "version": 3
   },
   "file_extension": ".py",
   "mimetype": "text/x-python",
   "name": "python",
   "nbconvert_exporter": "python",
   "pygments_lexer": "ipython3",
   "version": "3.4.2"
  }
 },
 "nbformat": 4,
 "nbformat_minor": 0
}
