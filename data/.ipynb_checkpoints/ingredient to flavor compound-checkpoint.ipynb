{
 "metadata": {
  "name": "",
  "signature": "sha256:a651c4e147dae35503d916ec1c93b39b76b4d7dd80ddbf841b10a17724a365cb"
 },
 "nbformat": 3,
 "nbformat_minor": 0,
 "worksheets": []
}