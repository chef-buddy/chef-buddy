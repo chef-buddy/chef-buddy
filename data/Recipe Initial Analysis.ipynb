{
 "cells": [
  {
   "cell_type": "code",
   "execution_count": 1,
   "metadata": {
    "collapsed": false
   },
   "outputs": [],
   "source": [
    "import pandas as pd\n",
    "import numpy as np\n",
    "import re\n",
    "import json\n",
    "import datetime\n",
    "\n",
    "def time_cleaner(a_string):\n",
    "    raw = str(a_string).replace('PT', '')\n",
    "    \n",
    "    if 'DT' in raw:\n",
    "        clean_preptime = np.nan\n",
    "    elif 'H' in raw and 'M' in raw:\n",
    "        time = re.findall(r'(\\d{1,9})', raw)\n",
    "        hour = int(time[0]) * 60\n",
    "        minute = int(time[1])\n",
    "        clean_preptime = hour + minute\n",
    "    elif 'H' in raw:\n",
    "        clean_preptime = int(raw.replace('H', '')) * 60\n",
    "    elif 'M' in raw:\n",
    "        clean_preptime = raw.replace('M', '')\n",
    "    else:\n",
    "        clean_preptime = np.nan\n",
    "\n",
    "    return clean_preptime\n",
    "\n",
    "def date_cleaner(a_string):\n",
    "    if a_string == None:\n",
    "        return np.nan\n",
    "    return re.sub('T.*', '', str(a_string))\n",
    "\n",
    "def ingredient_clean(ingredient_string):\n",
    "    regex = re.compile(r'½|⅓|¼|\\(|\\)|(\\d-\\d) |\\d|,|\\/|(oz)|(cup)|(teaspoons)|(teaspoon)|(tablespoons)|(tablespoon)|(whole)|(chopped)|( and )|(ground)|( or )|(ounce)|(weight)|( to )|( can )|( of )|(tbsp)', re.I)\n",
    "    ingredient_string = regex.sub('', ingredient_string)\n",
    "    return ingredient_string.replace('\\n','').lower()"
   ]
  },
  {
   "cell_type": "code",
   "execution_count": 2,
   "metadata": {
    "collapsed": false
   },
   "outputs": [],
   "source": [
    "cleaner = []\n",
    "with open('testing.json') as data_file:\n",
    "    raw_file = data_file.readlines()\n",
    "    count = 1\n",
    "    for x in raw_file:\n",
    "        fixed = re.sub(r'( { \"\\$oid\" : \"(.*?)(\" }))', str(count), x)\n",
    "        fixed = re.sub(r'(\"ts\" : { \"\\$date\" : (\\d{1,}))( }, )', '', fixed)\n",
    "        count += 1\n",
    "        cleaner.append(json.loads(fixed))\n",
    "raw_recipes = pd.DataFrame(cleaner)"
   ]
  },
  {
   "cell_type": "code",
   "execution_count": 3,
   "metadata": {
    "collapsed": false
   },
   "outputs": [],
   "source": [
    "raw_recipes['cookTime'] = [time_cleaner(count) for count in raw_recipes['cookTime']]\n",
    "raw_recipes['totalTime'] = [time_cleaner(count) for count in raw_recipes['totalTime']]\n",
    "raw_recipes['prepTime'] = [time_cleaner(count) for count in raw_recipes['prepTime']]\n",
    "raw_recipes['datePublished']= [date_cleaner(date) for date in raw_recipes['datePublished']]\n",
    "raw_recipes['ingredients'] = [ingredient_clean(ingredient) for ingredient in raw_recipes['ingredients']]\n",
    "raw_recipes = raw_recipes.drop(['creator', 'dateModified'], 1)\n",
    "# For full file, add 'recipeInstructions' to above drop list"
   ]
  },
  {
   "cell_type": "code",
   "execution_count": 4,
   "metadata": {
    "collapsed": false
   },
   "outputs": [
    {
     "data": {
      "text/html": [
       "<div style=\"max-height:1000px;max-width:1500px;overflow:auto;\">\n",
       "<table border=\"1\" class=\"dataframe\">\n",
       "  <thead>\n",
       "    <tr style=\"text-align: right;\">\n",
       "      <th></th>\n",
       "      <th>_id</th>\n",
       "      <th>cookTime</th>\n",
       "      <th>datePublished</th>\n",
       "      <th>description</th>\n",
       "      <th>image</th>\n",
       "      <th>ingredients</th>\n",
       "      <th>name</th>\n",
       "      <th>prepTime</th>\n",
       "      <th>recipeCategory</th>\n",
       "      <th>recipeYield</th>\n",
       "      <th>source</th>\n",
       "      <th>totalTime</th>\n",
       "      <th>url</th>\n",
       "    </tr>\n",
       "  </thead>\n",
       "  <tbody>\n",
       "    <tr>\n",
       "      <th>0</th>\n",
       "      <td> 1</td>\n",
       "      <td> 30</td>\n",
       "      <td> 2013-03-11</td>\n",
       "      <td> Late Saturday afternoon, after Marlboro Man ha...</td>\n",
       "      <td> http://static.thepioneerwoman.com/cooking/file...</td>\n",
       "      <td> biscuits s all-purpose flour  baking powder  s...</td>\n",
       "      <td> Drop Biscuits and Sausage Gravy</td>\n",
       "      <td> 10</td>\n",
       "      <td> NaN</td>\n",
       "      <td> 12</td>\n",
       "      <td> thepioneerwoman</td>\n",
       "      <td> NaN</td>\n",
       "      <td> http://thepioneerwoman.com/cooking/2013/03/dro...</td>\n",
       "    </tr>\n",
       "    <tr>\n",
       "      <th>1</th>\n",
       "      <td> 2</td>\n",
       "      <td> 20</td>\n",
       "      <td> 2013-03-13</td>\n",
       "      <td> When I was growing up, I participated in my Ep...</td>\n",
       "      <td> http://static.thepioneerwoman.com/cooking/file...</td>\n",
       "      <td>   dinner rollssmall sandwich buns i used  whea...</td>\n",
       "      <td>       Hot Roast Beef Sandwiches</td>\n",
       "      <td> 20</td>\n",
       "      <td> NaN</td>\n",
       "      <td> 12</td>\n",
       "      <td> thepioneerwoman</td>\n",
       "      <td> NaN</td>\n",
       "      <td> http://thepioneerwoman.com/cooking/2013/03/hot...</td>\n",
       "    </tr>\n",
       "  </tbody>\n",
       "</table>\n",
       "</div>"
      ],
      "text/plain": [
       "   _id cookTime datePublished  \\\n",
       "0    1       30    2013-03-11   \n",
       "1    2       20    2013-03-13   \n",
       "\n",
       "                                         description  \\\n",
       "0  Late Saturday afternoon, after Marlboro Man ha...   \n",
       "1  When I was growing up, I participated in my Ep...   \n",
       "\n",
       "                                               image  \\\n",
       "0  http://static.thepioneerwoman.com/cooking/file...   \n",
       "1  http://static.thepioneerwoman.com/cooking/file...   \n",
       "\n",
       "                                         ingredients  \\\n",
       "0  biscuits s all-purpose flour  baking powder  s...   \n",
       "1    dinner rollssmall sandwich buns i used  whea...   \n",
       "\n",
       "                              name prepTime recipeCategory recipeYield  \\\n",
       "0  Drop Biscuits and Sausage Gravy       10            NaN          12   \n",
       "1        Hot Roast Beef Sandwiches       20            NaN          12   \n",
       "\n",
       "            source totalTime  \\\n",
       "0  thepioneerwoman       NaN   \n",
       "1  thepioneerwoman       NaN   \n",
       "\n",
       "                                                 url  \n",
       "0  http://thepioneerwoman.com/cooking/2013/03/dro...  \n",
       "1  http://thepioneerwoman.com/cooking/2013/03/hot...  "
      ]
     },
     "execution_count": 4,
     "metadata": {},
     "output_type": "execute_result"
    }
   ],
   "source": [
    "from collections import Counter\n",
    "import matplotlib.pyplot as plt\n",
    "\n",
    "giant_string = ''\n",
    "for ingredient in raw_recipes['ingredients']:\n",
    "    giant_string = giant_string + ingredient\n",
    "\n",
    "giant_string = giant_string.split(' ')\n",
    "word_counts = dict(Counter(giant_string))\n",
    "raw_recipes.head(2)"
   ]
  },
  {
   "cell_type": "code",
   "execution_count": 5,
   "metadata": {
    "collapsed": false
   },
   "outputs": [
    {
     "ename": "CParserError",
     "evalue": "Error tokenizing data. C error: Expected 1 fields in line 17, saw 3\n",
     "output_type": "error",
     "traceback": [
      "\u001b[0;31m---------------------------------------------------------------------------\u001b[0m",
      "\u001b[0;31mCParserError\u001b[0m                              Traceback (most recent call last)",
      "\u001b[0;32m<ipython-input-5-f896cedd6106>\u001b[0m in \u001b[0;36m<module>\u001b[0;34m()\u001b[0m\n\u001b[0;32m----> 1\u001b[0;31m \u001b[0mfc_indr_dict\u001b[0m \u001b[0;34m=\u001b[0m \u001b[0mpd\u001b[0m\u001b[0;34m.\u001b[0m\u001b[0mread_csv\u001b[0m\u001b[0;34m(\u001b[0m\u001b[0;34m'comp_info.tsv'\u001b[0m\u001b[0;34m)\u001b[0m\u001b[0;34m\u001b[0m\u001b[0m\n\u001b[0m",
      "\u001b[0;32m/Users/zackjcooper/.pyenv/versions/sandbox/lib/python3.4/site-packages/pandas/io/parsers.py\u001b[0m in \u001b[0;36mparser_f\u001b[0;34m(filepath_or_buffer, sep, dialect, compression, doublequote, escapechar, quotechar, quoting, skipinitialspace, lineterminator, header, index_col, names, prefix, skiprows, skipfooter, skip_footer, na_values, na_fvalues, true_values, false_values, delimiter, converters, dtype, usecols, engine, delim_whitespace, as_recarray, na_filter, compact_ints, use_unsigned, low_memory, buffer_lines, warn_bad_lines, error_bad_lines, keep_default_na, thousands, comment, decimal, parse_dates, keep_date_col, dayfirst, date_parser, memory_map, float_precision, nrows, iterator, chunksize, verbose, encoding, squeeze, mangle_dupe_cols, tupleize_cols, infer_datetime_format, skip_blank_lines)\u001b[0m\n\u001b[1;32m    463\u001b[0m                     skip_blank_lines=skip_blank_lines)\n\u001b[1;32m    464\u001b[0m \u001b[0;34m\u001b[0m\u001b[0m\n\u001b[0;32m--> 465\u001b[0;31m         \u001b[0;32mreturn\u001b[0m \u001b[0m_read\u001b[0m\u001b[0;34m(\u001b[0m\u001b[0mfilepath_or_buffer\u001b[0m\u001b[0;34m,\u001b[0m \u001b[0mkwds\u001b[0m\u001b[0;34m)\u001b[0m\u001b[0;34m\u001b[0m\u001b[0m\n\u001b[0m\u001b[1;32m    466\u001b[0m \u001b[0;34m\u001b[0m\u001b[0m\n\u001b[1;32m    467\u001b[0m     \u001b[0mparser_f\u001b[0m\u001b[0;34m.\u001b[0m\u001b[0m__name__\u001b[0m \u001b[0;34m=\u001b[0m \u001b[0mname\u001b[0m\u001b[0;34m\u001b[0m\u001b[0m\n",
      "\u001b[0;32m/Users/zackjcooper/.pyenv/versions/sandbox/lib/python3.4/site-packages/pandas/io/parsers.py\u001b[0m in \u001b[0;36m_read\u001b[0;34m(filepath_or_buffer, kwds)\u001b[0m\n\u001b[1;32m    249\u001b[0m         \u001b[0;32mreturn\u001b[0m \u001b[0mparser\u001b[0m\u001b[0;34m\u001b[0m\u001b[0m\n\u001b[1;32m    250\u001b[0m \u001b[0;34m\u001b[0m\u001b[0m\n\u001b[0;32m--> 251\u001b[0;31m     \u001b[0;32mreturn\u001b[0m \u001b[0mparser\u001b[0m\u001b[0;34m.\u001b[0m\u001b[0mread\u001b[0m\u001b[0;34m(\u001b[0m\u001b[0;34m)\u001b[0m\u001b[0;34m\u001b[0m\u001b[0m\n\u001b[0m\u001b[1;32m    252\u001b[0m \u001b[0;34m\u001b[0m\u001b[0m\n\u001b[1;32m    253\u001b[0m _parser_defaults = {\n",
      "\u001b[0;32m/Users/zackjcooper/.pyenv/versions/sandbox/lib/python3.4/site-packages/pandas/io/parsers.py\u001b[0m in \u001b[0;36mread\u001b[0;34m(self, nrows)\u001b[0m\n\u001b[1;32m    708\u001b[0m                 \u001b[0;32mraise\u001b[0m \u001b[0mValueError\u001b[0m\u001b[0;34m(\u001b[0m\u001b[0;34m'skip_footer not supported for iteration'\u001b[0m\u001b[0;34m)\u001b[0m\u001b[0;34m\u001b[0m\u001b[0m\n\u001b[1;32m    709\u001b[0m \u001b[0;34m\u001b[0m\u001b[0m\n\u001b[0;32m--> 710\u001b[0;31m         \u001b[0mret\u001b[0m \u001b[0;34m=\u001b[0m \u001b[0mself\u001b[0m\u001b[0;34m.\u001b[0m\u001b[0m_engine\u001b[0m\u001b[0;34m.\u001b[0m\u001b[0mread\u001b[0m\u001b[0;34m(\u001b[0m\u001b[0mnrows\u001b[0m\u001b[0;34m)\u001b[0m\u001b[0;34m\u001b[0m\u001b[0m\n\u001b[0m\u001b[1;32m    711\u001b[0m \u001b[0;34m\u001b[0m\u001b[0m\n\u001b[1;32m    712\u001b[0m         \u001b[0;32mif\u001b[0m \u001b[0mself\u001b[0m\u001b[0;34m.\u001b[0m\u001b[0moptions\u001b[0m\u001b[0;34m.\u001b[0m\u001b[0mget\u001b[0m\u001b[0;34m(\u001b[0m\u001b[0;34m'as_recarray'\u001b[0m\u001b[0;34m)\u001b[0m\u001b[0;34m:\u001b[0m\u001b[0;34m\u001b[0m\u001b[0m\n",
      "\u001b[0;32m/Users/zackjcooper/.pyenv/versions/sandbox/lib/python3.4/site-packages/pandas/io/parsers.py\u001b[0m in \u001b[0;36mread\u001b[0;34m(self, nrows)\u001b[0m\n\u001b[1;32m   1157\u001b[0m \u001b[0;34m\u001b[0m\u001b[0m\n\u001b[1;32m   1158\u001b[0m         \u001b[0;32mtry\u001b[0m\u001b[0;34m:\u001b[0m\u001b[0;34m\u001b[0m\u001b[0m\n\u001b[0;32m-> 1159\u001b[0;31m             \u001b[0mdata\u001b[0m \u001b[0;34m=\u001b[0m \u001b[0mself\u001b[0m\u001b[0;34m.\u001b[0m\u001b[0m_reader\u001b[0m\u001b[0;34m.\u001b[0m\u001b[0mread\u001b[0m\u001b[0;34m(\u001b[0m\u001b[0mnrows\u001b[0m\u001b[0;34m)\u001b[0m\u001b[0;34m\u001b[0m\u001b[0m\n\u001b[0m\u001b[1;32m   1160\u001b[0m         \u001b[0;32mexcept\u001b[0m \u001b[0mStopIteration\u001b[0m\u001b[0;34m:\u001b[0m\u001b[0;34m\u001b[0m\u001b[0m\n\u001b[1;32m   1161\u001b[0m             \u001b[0;32mif\u001b[0m \u001b[0mnrows\u001b[0m \u001b[0;32mis\u001b[0m \u001b[0;32mNone\u001b[0m\u001b[0;34m:\u001b[0m\u001b[0;34m\u001b[0m\u001b[0m\n",
      "\u001b[0;32mpandas/parser.pyx\u001b[0m in \u001b[0;36mpandas.parser.TextReader.read (pandas/parser.c:7396)\u001b[0;34m()\u001b[0m\n",
      "\u001b[0;32mpandas/parser.pyx\u001b[0m in \u001b[0;36mpandas.parser.TextReader._read_low_memory (pandas/parser.c:7636)\u001b[0;34m()\u001b[0m\n",
      "\u001b[0;32mpandas/parser.pyx\u001b[0m in \u001b[0;36mpandas.parser.TextReader._read_rows (pandas/parser.c:8258)\u001b[0;34m()\u001b[0m\n",
      "\u001b[0;32mpandas/parser.pyx\u001b[0m in \u001b[0;36mpandas.parser.TextReader._tokenize_rows (pandas/parser.c:8132)\u001b[0;34m()\u001b[0m\n",
      "\u001b[0;32mpandas/parser.pyx\u001b[0m in \u001b[0;36mpandas.parser.raise_parser_error (pandas/parser.c:20735)\u001b[0;34m()\u001b[0m\n",
      "\u001b[0;31mCParserError\u001b[0m: Error tokenizing data. C error: Expected 1 fields in line 17, saw 3\n"
     ]
    }
   ],
   "source": [
    "fc_indr_dict = pd.read_csv('comp_info.tsv')"
   ]
  },
  {
   "cell_type": "code",
   "execution_count": null,
   "metadata": {
    "collapsed": false
   },
   "outputs": [],
   "source": []
  },
  {
   "cell_type": "code",
   "execution_count": null,
   "metadata": {
    "collapsed": false
   },
   "outputs": [],
   "source": []
  },
  {
   "cell_type": "code",
   "execution_count": null,
   "metadata": {
    "collapsed": false
   },
   "outputs": [],
   "source": []
  },
  {
   "cell_type": "code",
   "execution_count": null,
   "metadata": {
    "collapsed": false
   },
   "outputs": [],
   "source": []
  },
  {
   "cell_type": "code",
   "execution_count": null,
   "metadata": {
    "collapsed": false
   },
   "outputs": [],
   "source": []
  },
  {
   "cell_type": "code",
   "execution_count": null,
   "metadata": {
    "collapsed": false
   },
   "outputs": [],
   "source": []
  }
 ],
 "metadata": {
  "kernelspec": {
   "display_name": "Python 3",
   "language": "python",
   "name": "python3"
  },
  "language_info": {
   "codemirror_mode": {
    "name": "ipython",
    "version": 3
   },
   "file_extension": ".py",
   "mimetype": "text/x-python",
   "name": "python",
   "nbconvert_exporter": "python",
   "pygments_lexer": "ipython3",
   "version": "3.4.2"
  }
 },
 "nbformat": 4,
 "nbformat_minor": 0
}
